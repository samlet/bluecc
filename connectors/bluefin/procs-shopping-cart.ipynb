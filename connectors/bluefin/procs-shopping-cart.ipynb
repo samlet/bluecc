{
 "cells": [
  {
   "cell_type": "code",
   "execution_count": 1,
   "metadata": {
    "ExecuteTime": {
     "end_time": "2021-04-09T10:30:32.834650Z",
     "start_time": "2021-04-09T10:30:30.667957Z"
    }
   },
   "outputs": [
    {
     "name": "stdout",
     "output_type": "stream",
     "text": [
      "2021-04-09 18:30:32,681 - sagas.ofbiz.connector - INFO - connect to py4j-gateway localhost 22333\n"
     ]
    }
   ],
   "source": [
    "from sagas.ofbiz.services import OfService as s, oc, track\n",
    "from sagas.ofbiz.entities import OfEntity as e\n",
    "\n",
    "oc.import_package('org.apache.ofbiz.service.ServiceDispatcher')"
   ]
  },
  {
   "cell_type": "code",
   "execution_count": 2,
   "metadata": {
    "ExecuteTime": {
     "end_time": "2021-04-09T10:30:32.868858Z",
     "start_time": "2021-04-09T10:30:32.838038Z"
    }
   },
   "outputs": [
    {
     "data": {
      "text/plain": [
       "200"
      ]
     },
     "execution_count": 2,
     "metadata": {},
     "output_type": "execute_result"
    }
   ],
   "source": [
    "oc.j.ServiceDispatcher.LRU_LOG_SIZE"
   ]
  },
  {
   "cell_type": "code",
   "execution_count": 3,
   "metadata": {
    "ExecuteTime": {
     "end_time": "2021-04-09T10:30:32.964764Z",
     "start_time": "2021-04-09T10:30:32.879986Z"
    }
   },
   "outputs": [],
   "source": [
    "oc.import_package('com.adapters.objects.RequestData')\n",
    "oc.import_package('com.adapters.objects.ResponseData')\n",
    "request = oc.j.RequestData()\n",
    "response = oc.j.ResponseData()"
   ]
  },
  {
   "cell_type": "code",
   "execution_count": 4,
   "metadata": {
    "ExecuteTime": {
     "end_time": "2021-04-09T10:30:32.996493Z",
     "start_time": "2021-04-09T10:30:32.968406Z"
    }
   },
   "outputs": [],
   "source": [
    "security=oc.dispatcher.getSecurity()\n",
    "request.setAttribute(\"security\", security)\n",
    "request.setAttribute(\"delegator\", oc.delegator)\n",
    "request.setAttribute(\"dispatcher\", oc.dispatcher)\n",
    "session = request.getSession()\n",
    "session.setAttribute(\"orderMode\", None)"
   ]
  },
  {
   "cell_type": "code",
   "execution_count": 5,
   "metadata": {
    "ExecuteTime": {
     "end_time": "2021-04-09T10:30:33.037613Z",
     "start_time": "2021-04-09T10:30:33.001077Z"
    }
   },
   "outputs": [
    {
     "data": {
      "text/plain": [
       "'init'"
      ]
     },
     "execution_count": 5,
     "metadata": {},
     "output_type": "execute_result"
    }
   ],
   "source": [
    "oc.import_package('org.apache.ofbiz.order.shoppingcart.ShoppingCartEvents')\n",
    "result = oc.j.ShoppingCartEvents.routeOrderEntry(request, response)\n",
    "result"
   ]
  },
  {
   "cell_type": "code",
   "execution_count": 6,
   "metadata": {
    "ExecuteTime": {
     "end_time": "2021-04-09T10:30:33.111136Z",
     "start_time": "2021-04-09T10:30:33.096971Z"
    }
   },
   "outputs": [
    {
     "data": {
      "text/plain": [
       "'system'"
      ]
     },
     "execution_count": 6,
     "metadata": {},
     "output_type": "execute_result"
    }
   ],
   "source": [
    "user_login=oc.gateway.entry_point.getUserLogin()\n",
    "user_login.get('userLoginId')"
   ]
  },
  {
   "cell_type": "code",
   "execution_count": 7,
   "metadata": {
    "ExecuteTime": {
     "end_time": "2021-04-09T10:30:33.146708Z",
     "start_time": "2021-04-09T10:30:33.133753Z"
    }
   },
   "outputs": [],
   "source": [
    "request.setParameter(\"orderMode\", \"SALES_ORDER\")\n",
    "request.setParameter(\"productStoreId\", \"9000\")\n",
    "request.setParameter(\"partyId\", \"DemoCustomer\")\n",
    "request.setParameter(\"currencyUom\", \"USD\")\n",
    "session.setAttribute(\"userLogin\", user_login)"
   ]
  },
  {
   "cell_type": "code",
   "execution_count": 8,
   "metadata": {
    "ExecuteTime": {
     "end_time": "2021-04-09T10:30:33.320324Z",
     "start_time": "2021-04-09T10:30:33.173415Z"
    }
   },
   "outputs": [
    {
     "data": {
      "text/plain": [
       "'success'"
      ]
     },
     "execution_count": 8,
     "metadata": {},
     "output_type": "execute_result"
    }
   ],
   "source": [
    "result = oc.j.ShoppingCartEvents.initializeOrderEntry(request, response)\n",
    "result"
   ]
  },
  {
   "cell_type": "code",
   "execution_count": 9,
   "metadata": {
    "ExecuteTime": {
     "end_time": "2021-04-09T10:30:33.342228Z",
     "start_time": "2021-04-09T10:30:33.323515Z"
    }
   },
   "outputs": [
    {
     "data": {
      "text/plain": [
       "'success'"
      ]
     },
     "execution_count": 9,
     "metadata": {},
     "output_type": "execute_result"
    }
   ],
   "source": [
    "result = oc.j.ShoppingCartEvents.setOrderCurrencyAgreementShipDates(request, response)\n",
    "result"
   ]
  },
  {
   "cell_type": "code",
   "execution_count": 10,
   "metadata": {
    "ExecuteTime": {
     "end_time": "2021-04-09T10:30:38.809021Z",
     "start_time": "2021-04-09T10:30:33.346623Z"
    }
   },
   "outputs": [
    {
     "data": {
      "text/plain": [
       "'success'"
      ]
     },
     "execution_count": 10,
     "metadata": {},
     "output_type": "execute_result"
    }
   ],
   "source": [
    "product_id= \"GZ-1000\"\n",
    "request.setParameter(\"add_product_id\", product_id)\n",
    "result = oc.j.ShoppingCartEvents.addToCart(request, response)\n",
    "result"
   ]
  },
  {
   "cell_type": "code",
   "execution_count": 11,
   "metadata": {
    "ExecuteTime": {
     "end_time": "2021-04-09T10:30:38.834968Z",
     "start_time": "2021-04-09T10:30:38.815266Z"
    }
   },
   "outputs": [],
   "source": [
    "oc.import_package('org.apache.ofbiz.order.shoppingcart.CheckOutEvents')\n",
    "CheckOutEvents=oc.j.CheckOutEvents"
   ]
  },
  {
   "cell_type": "code",
   "execution_count": 12,
   "metadata": {
    "ExecuteTime": {
     "end_time": "2021-04-09T10:30:39.379731Z",
     "start_time": "2021-04-09T10:30:38.838821Z"
    }
   },
   "outputs": [
    {
     "data": {
      "text/plain": [
       "'success'"
      ]
     },
     "execution_count": 12,
     "metadata": {},
     "output_type": "execute_result"
    }
   ],
   "source": [
    "request.setParameter(\"checkoutpage\", \"quick\")\n",
    "request.setParameter(\"shipping_contact_mech_id\", \"9015\")\n",
    "request.setParameter(\"shipping_method\", \"GROUND@UPS\")\n",
    "request.setParameter(\"checkOutPaymentId\", \"EXT_COD\")\n",
    "request.setParameter(\"is_gift\", \"false\")\n",
    "request.setParameter(\"may_split\", \"false\")\n",
    "request.setAttribute(\"shoppingCart\", None)\n",
    "\n",
    "result = CheckOutEvents.setQuickCheckOutOptions(request, response)\n",
    "result"
   ]
  },
  {
   "cell_type": "code",
   "execution_count": 13,
   "metadata": {
    "ExecuteTime": {
     "end_time": "2021-04-09T10:30:42.698883Z",
     "start_time": "2021-04-09T10:30:39.389789Z"
    }
   },
   "outputs": [
    {
     "data": {
      "text/plain": [
       "'sales_order'"
      ]
     },
     "execution_count": 13,
     "metadata": {},
     "output_type": "execute_result"
    }
   ],
   "source": [
    "result = CheckOutEvents.createOrder(request, response)\n",
    "result"
   ]
  },
  {
   "cell_type": "code",
   "execution_count": 14,
   "metadata": {
    "ExecuteTime": {
     "end_time": "2021-04-09T10:30:45.591916Z",
     "start_time": "2021-04-09T10:30:42.704290Z"
    }
   },
   "outputs": [
    {
     "data": {
      "text/plain": [
       "'success'"
      ]
     },
     "execution_count": 14,
     "metadata": {},
     "output_type": "execute_result"
    }
   ],
   "source": [
    "result = CheckOutEvents.processPayment(request, response)\n",
    "result"
   ]
  },
  {
   "cell_type": "code",
   "execution_count": 15,
   "metadata": {
    "ExecuteTime": {
     "end_time": "2021-04-09T10:30:45.683613Z",
     "start_time": "2021-04-09T10:30:45.595921Z"
    }
   },
   "outputs": [],
   "source": [
    "oc.dispatcher.runAsync(\"sendOrderConfirmation\", None)"
   ]
  },
  {
   "cell_type": "code",
   "execution_count": 16,
   "metadata": {
    "ExecuteTime": {
     "end_time": "2021-04-09T10:30:45.711560Z",
     "start_time": "2021-04-09T10:30:45.688944Z"
    }
   },
   "outputs": [
    {
     "data": {
      "text/plain": [
       "'success'"
      ]
     },
     "execution_count": 16,
     "metadata": {},
     "output_type": "execute_result"
    }
   ],
   "source": [
    "result = oc.j.ShoppingCartEvents.destroyCart(request, response)\n",
    "result"
   ]
  },
  {
   "cell_type": "code",
   "execution_count": 17,
   "metadata": {
    "ExecuteTime": {
     "end_time": "2021-04-09T10:30:45.733692Z",
     "start_time": "2021-04-09T10:30:45.716278Z"
    }
   },
   "outputs": [],
   "source": [
    "oc.import_package('org.apache.ofbiz.entity.util.EntityQuery')\n",
    "q=oc.j.EntityQuery.use(oc.delegator)"
   ]
  },
  {
   "cell_type": "code",
   "execution_count": 18,
   "metadata": {
    "ExecuteTime": {
     "end_time": "2021-04-09T10:30:45.744446Z",
     "start_time": "2021-04-09T10:30:45.740713Z"
    }
   },
   "outputs": [],
   "source": [
    "import py4j"
   ]
  },
  {
   "cell_type": "code",
   "execution_count": 19,
   "metadata": {
    "ExecuteTime": {
     "end_time": "2021-04-09T10:30:45.797133Z",
     "start_time": "2021-04-09T10:30:45.748557Z"
    }
   },
   "outputs": [
    {
     "data": {
      "text/plain": [
       "JavaObject id=o11"
      ]
     },
     "execution_count": 19,
     "metadata": {},
     "output_type": "execute_result"
    }
   ],
   "source": [
    "select_from=py4j.java_gateway.get_method(q, 'from')\n",
    "select_from('Person')"
   ]
  },
  {
   "cell_type": "code",
   "execution_count": 20,
   "metadata": {
    "ExecuteTime": {
     "end_time": "2021-04-09T10:30:45.820418Z",
     "start_time": "2021-04-09T10:30:45.802108Z"
    }
   },
   "outputs": [
    {
     "data": {
      "text/plain": [
       "'org.apache.ofbiz.entity.util.EntityQuery'"
      ]
     },
     "execution_count": 20,
     "metadata": {},
     "output_type": "execute_result"
    }
   ],
   "source": [
    "query=select_from(\"OrderHeader\")\n",
    "query.getClass().getName()"
   ]
  },
  {
   "cell_type": "code",
   "execution_count": 21,
   "metadata": {
    "ExecuteTime": {
     "end_time": "2021-04-09T10:30:45.838089Z",
     "start_time": "2021-04-09T10:30:45.829615Z"
    }
   },
   "outputs": [],
   "source": [
    "select_where=py4j.java_gateway.get_method(query, 'where')"
   ]
  },
  {
   "cell_type": "code",
   "execution_count": 22,
   "metadata": {
    "ExecuteTime": {
     "end_time": "2021-04-09T10:30:45.884399Z",
     "start_time": "2021-04-09T10:30:45.880064Z"
    }
   },
   "outputs": [],
   "source": [
    "# query_o=select_where(\"orderTypeId\", \"SALES_ORDER\")"
   ]
  },
  {
   "cell_type": "code",
   "execution_count": 23,
   "metadata": {
    "ExecuteTime": {
     "end_time": "2021-04-09T10:30:45.910006Z",
     "start_time": "2021-04-09T10:30:45.904663Z"
    }
   },
   "outputs": [],
   "source": [
    "# order_header=select_from(\"OrderHeader\").where(\"orderTypeId\", \"SALES_ORDER\").orderBy(\"-entryDate\").queryFirst()"
   ]
  },
  {
   "cell_type": "code",
   "execution_count": 25,
   "metadata": {
    "ExecuteTime": {
     "end_time": "2021-04-09T10:31:17.707929Z",
     "start_time": "2021-04-09T10:31:17.700046Z"
    }
   },
   "outputs": [],
   "source": [
    "oc.import_package('com.adapters.srv.ECommerceHelper')\n",
    "helper=oc.j.ECommerceHelper(oc.dispatcher, oc.delegator)"
   ]
  },
  {
   "cell_type": "code",
   "execution_count": 28,
   "metadata": {
    "ExecuteTime": {
     "end_time": "2021-04-09T10:32:24.257018Z",
     "start_time": "2021-04-09T10:32:24.242100Z"
    }
   },
   "outputs": [
    {
     "data": {
      "text/plain": [
       "'WSCO10010'"
      ]
     },
     "execution_count": 28,
     "metadata": {},
     "output_type": "execute_result"
    }
   ],
   "source": [
    "order_header=helper.getLatestSalesOrder()\n",
    "order_header.get('orderId')"
   ]
  },
  {
   "cell_type": "code",
   "execution_count": 37,
   "metadata": {
    "ExecuteTime": {
     "end_time": "2021-04-09T10:37:53.964177Z",
     "start_time": "2021-04-09T10:37:53.797228Z"
    }
   },
   "outputs": [],
   "source": [
    "order_input=oc.jmap()\n",
    "order_input.put('orderId', order_header.get('orderId'))\n",
    "order_input.put('invoicePerShipment', 'Y')\n",
    "order_input.put('userLogin', user_login)\n",
    "service_result = oc.dispatcher.runSync(\"updateOrderHeader\", order_input)"
   ]
  },
  {
   "cell_type": "code",
   "execution_count": 38,
   "metadata": {
    "ExecuteTime": {
     "end_time": "2021-04-09T10:37:56.268993Z",
     "start_time": "2021-04-09T10:37:56.257742Z"
    }
   },
   "outputs": [
    {
     "data": {
      "text/plain": [
       "{'responseMessage': 'success'}"
      ]
     },
     "execution_count": 38,
     "metadata": {},
     "output_type": "execute_result"
    }
   ],
   "source": [
    "service_result"
   ]
  },
  {
   "cell_type": "code",
   "execution_count": 39,
   "metadata": {
    "ExecuteTime": {
     "end_time": "2021-04-09T10:38:00.965495Z",
     "start_time": "2021-04-09T10:38:00.956756Z"
    }
   },
   "outputs": [
    {
     "name": "stdout",
     "output_type": "stream",
     "text": [
      "None\n"
     ]
    }
   ],
   "source": [
    "print(service_result.get('errorMessageList'))"
   ]
  },
  {
   "cell_type": "code",
   "execution_count": null,
   "metadata": {},
   "outputs": [],
   "source": []
  }
 ],
 "metadata": {
  "kernelspec": {
   "display_name": "Python 3",
   "language": "python",
   "name": "python3"
  },
  "language_info": {
   "codemirror_mode": {
    "name": "ipython",
    "version": 3
   },
   "file_extension": ".py",
   "mimetype": "text/x-python",
   "name": "python",
   "nbconvert_exporter": "python",
   "pygments_lexer": "ipython3",
   "version": "3.7.7"
  },
  "varInspector": {
   "cols": {
    "lenName": 16,
    "lenType": 16,
    "lenVar": 40
   },
   "kernels_config": {
    "python": {
     "delete_cmd_postfix": "",
     "delete_cmd_prefix": "del ",
     "library": "var_list.py",
     "varRefreshCmd": "print(var_dic_list())"
    },
    "r": {
     "delete_cmd_postfix": ") ",
     "delete_cmd_prefix": "rm(",
     "library": "var_list.r",
     "varRefreshCmd": "cat(var_dic_list()) "
    }
   },
   "types_to_exclude": [
    "module",
    "function",
    "builtin_function_or_method",
    "instance",
    "_Feature"
   ],
   "window_display": false
  }
 },
 "nbformat": 4,
 "nbformat_minor": 4
}
