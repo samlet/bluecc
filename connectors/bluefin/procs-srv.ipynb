{
 "cells": [
  {
   "cell_type": "code",
   "execution_count": 3,
   "metadata": {
    "ExecuteTime": {
     "end_time": "2021-04-08T11:38:53.654119Z",
     "start_time": "2021-04-08T11:38:53.558479Z"
    }
   },
   "outputs": [
    {
     "name": "stdout",
     "output_type": "stream",
     "text": [
      "200\n",
      "{\n",
      "  \"statusCode\": 200,\n",
      "  \"statusDescription\": \"OK\",\n",
      "  \"data\": {\n",
      "    \"list\": [\n",
      "      {\n",
      "        \"lastUpdatedStamp\": \"2021-03-19T12:49:09.391+00:00\",\n",
      "        \"createdTxStamp\": \"2021-03-19T12:49:09.196+00:00\",\n",
      "        \"createdStamp\": \"2021-03-19T12:49:09.391+00:00\",\n",
      "        \"description\": \"United States Dollar\",\n",
      "        \"lastUpdatedTxStamp\": \"2021-03-19T12:49:09.196+00:00\",\n",
      "        \"uomId\": \"USD\",\n",
      "        \"abbreviation\": \"USD\",\n",
      "        \"uomTypeId\": \"CURRENCY_MEASURE\",\n",
      "        \"numericCode\": 840\n",
      "      }\n",
      "    ],\n",
      "    \"listSize\": 1,\n",
      "    \"queryString\": \"uomId=USD&amp;noConditionFind=N\",\n",
      "    \"queryStringMap\": {\n",
      "      \"uomId\": \"USD\",\n",
      "      \"noConditionFind\": \"N\"\n",
      "    }\n",
      "  }\n",
      "}\n"
     ]
    }
   ],
   "source": [
    "from bluefin.procs.emitter import backend, Emitter\n",
    "\n",
    "emitter=Emitter()\n",
    "emitter.find_list('Uom', 'uomId', 'USD')"
   ]
  }
 ],
 "metadata": {
  "kernelspec": {
   "display_name": "Python 3",
   "language": "python",
   "name": "python3"
  },
  "language_info": {
   "codemirror_mode": {
    "name": "ipython",
    "version": 3
   },
   "file_extension": ".py",
   "mimetype": "text/x-python",
   "name": "python",
   "nbconvert_exporter": "python",
   "pygments_lexer": "ipython3",
   "version": "3.7.7"
  },
  "varInspector": {
   "cols": {
    "lenName": 16,
    "lenType": 16,
    "lenVar": 40
   },
   "kernels_config": {
    "python": {
     "delete_cmd_postfix": "",
     "delete_cmd_prefix": "del ",
     "library": "var_list.py",
     "varRefreshCmd": "print(var_dic_list())"
    },
    "r": {
     "delete_cmd_postfix": ") ",
     "delete_cmd_prefix": "rm(",
     "library": "var_list.r",
     "varRefreshCmd": "cat(var_dic_list()) "
    }
   },
   "types_to_exclude": [
    "module",
    "function",
    "builtin_function_or_method",
    "instance",
    "_Feature"
   ],
   "window_display": false
  }
 },
 "nbformat": 4,
 "nbformat_minor": 4
}
