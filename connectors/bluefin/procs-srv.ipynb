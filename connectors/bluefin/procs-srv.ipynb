{
 "cells": [
  {
   "cell_type": "code",
   "execution_count": 1,
   "metadata": {
    "ExecuteTime": {
     "end_time": "2021-04-17T05:29:46.209586Z",
     "start_time": "2021-04-17T05:29:44.420697Z"
    }
   },
   "outputs": [
    {
     "name": "stdout",
     "output_type": "stream",
     "text": [
      "200\n",
      "{\n",
      "  \"statusCode\": 200,\n",
      "  \"statusDescription\": \"OK\",\n",
      "  \"data\": {\n",
      "    \"list\": [\n",
      "      {\n",
      "        \"lastUpdatedStamp\": \"2021-03-19T12:49:09.391+00:00\",\n",
      "        \"createdTxStamp\": \"2021-03-19T12:49:09.196+00:00\",\n",
      "        \"createdStamp\": \"2021-03-19T12:49:09.391+00:00\",\n",
      "        \"description\": \"United States Dollar\",\n",
      "        \"lastUpdatedTxStamp\": \"2021-03-19T12:49:09.196+00:00\",\n",
      "        \"uomId\": \"USD\",\n",
      "        \"abbreviation\": \"USD\",\n",
      "        \"uomTypeId\": \"CURRENCY_MEASURE\",\n",
      "        \"numericCode\": 840\n",
      "      }\n",
      "    ],\n",
      "    \"listSize\": 1,\n",
      "    \"queryString\": \"uomId=USD&amp;noConditionFind=N\",\n",
      "    \"queryStringMap\": {\n",
      "      \"uomId\": \"USD\",\n",
      "      \"noConditionFind\": \"N\"\n",
      "    }\n",
      "  }\n",
      "}\n"
     ]
    }
   ],
   "source": [
    "from bluefin.procs.emitter import backend, Emitter\n",
    "\n",
    "emitter=Emitter()\n",
    "emitter.find_list('Uom', 'uomId', 'USD')"
   ]
  },
  {
   "cell_type": "code",
   "execution_count": 2,
   "metadata": {
    "ExecuteTime": {
     "end_time": "2021-04-17T05:29:46.316449Z",
     "start_time": "2021-04-17T05:29:46.225983Z"
    }
   },
   "outputs": [
    {
     "data": {
      "text/plain": [
       "400"
      ]
     },
     "execution_count": 2,
     "metadata": {},
     "output_type": "execute_result"
    }
   ],
   "source": [
    "request_json='''\n",
    "{\n",
    "\t\"entityName\":\"OrderHeader\",\n",
    "\t\"viewIndex\": 0,\n",
    "\t\"viewSize\": \"{{ _.default_view_size }}\",\n",
    "\t\"inputFields\":{\n",
    "\t\t\"orderId\":\"Demo1001\"\n",
    "\t}\n",
    "}\n",
    "'''\n",
    "resp = backend.invoke_srv(\"performFindList\", request_json)\n",
    "resp.status_code"
   ]
  },
  {
   "cell_type": "code",
   "execution_count": 3,
   "metadata": {
    "ExecuteTime": {
     "end_time": "2021-04-17T05:29:46.339181Z",
     "start_time": "2021-04-17T05:29:46.322952Z"
    }
   },
   "outputs": [
    {
     "data": {
      "text/plain": [
       "('ascii',\n",
       " 'ISO-8859-1',\n",
       " b'Cannot construct instance of `java.util.HashMap` (although at least one Creator exists): no String-argument constructor/factory method to deserialize from String value (\\'{\\n\\t\"entityName\":\"OrderHeader\",\\n\\t\"viewIndex\": 0,\\n\\t\"viewSize\": \"{{ _.default_view_size }}\",\\n\\t\"inputFields\":{\\n\\t\\t\"orderId\":\"Demo1001\"\\n\\t}\\n}\\')\\n at [Source: (org.glassfish.jersey.message.internal.ReaderInterceptorExecutor$UnCloseableInputStream); line: 1, column: 1]')"
      ]
     },
     "execution_count": 3,
     "metadata": {},
     "output_type": "execute_result"
    }
   ],
   "source": [
    "resp.apparent_encoding, resp.encoding, resp.content"
   ]
  },
  {
   "cell_type": "code",
   "execution_count": 4,
   "metadata": {
    "ExecuteTime": {
     "end_time": "2021-04-17T05:29:46.389958Z",
     "start_time": "2021-04-17T05:29:46.361872Z"
    }
   },
   "outputs": [
    {
     "name": "stdout",
     "output_type": "stream",
     "text": [
      "not json format\n",
      "Cannot construct instance of `java.util.HashMap` (although at least one Creator exists): no String-argument constructor/factory method to deserialize from String value ('{\n",
      "\t\"entityName\":\"OrderHeader\",\n",
      "\t\"viewIndex\": 0,\n",
      "\t\"viewSize\": \"{{ _.default_view_size }}\",\n",
      "\t\"inputFields\":{\n",
      "\t\t\"orderId\":\"Demo1001\"\n",
      "\t}\n",
      "}')\n",
      " at [Source: (org.glassfish.jersey.message.internal.ReaderInterceptorExecutor$UnCloseableInputStream); line: 1, column: 1]\n"
     ]
    }
   ],
   "source": [
    "# from json.decoder import JSONDecodeError\n",
    "from simplejson.errors import JSONDecodeError\n",
    "try:\n",
    "    json_obj=resp.json()\n",
    "    print(json_obj)\n",
    "# except JSONDecodeError as e:\n",
    "except ValueError as e:\n",
    "    print(\"not json format\")\n",
    "    print(resp.text)"
   ]
  },
  {
   "cell_type": "code",
   "execution_count": 5,
   "metadata": {
    "ExecuteTime": {
     "end_time": "2021-04-17T05:29:46.493231Z",
     "start_time": "2021-04-17T05:29:46.399178Z"
    }
   },
   "outputs": [
    {
     "name": "stdout",
     "output_type": "stream",
     "text": [
      "200 {\n",
      "  \"statusCode\" : 200,\n",
      "  \"statusDescription\" : \"OK\",\n",
      "  \"data\" : {\n",
      "    \"list\" : [ {\n",
      "      \"salesChannelEnumId\" : \"UNKNWN_SALES_CHANNEL\",\n",
      "      \"orderId\" : \"Demo1001\",\n",
      "      \"createdStamp\" : \"2021-03-19T12:49:38.389+00:00\",\n",
      "      \"orderTypeId\" : \"PURCHASE_ORDER\",\n",
      "      \"remainingSubTotal\" : 48.00,\n",
      "      \"orderName\" : \"Demo Purchase Order \",\n",
      "      \"webSiteId\" : \"WebStore\",\n",
      "      \"lastUpdatedStamp\" : \"2021-03-19T12:49:38.389+00:00\",\n",
      "      \"entryDate\" : \"2009-08-13T09:45:50.419+00:00\",\n",
      "      \"grandTotal\" : 48.00,\n",
      "      \"createdTxStamp\" : \"2021-03-19T12:49:28.668+00:00\",\n",
      "      \"lastUpdatedTxStamp\" : \"2021-03-19T12:49:28.668+00:00\",\n",
      "      \"priority\" : \"2\",\n",
      "      \"statusId\" : \"ORDER_COMPLETED\",\n",
      "      \"currencyUom\" : \"USD\",\n",
      "      \"orderDate\" : \"2009-08-13T09:45:50.419+00:00\"\n",
      "    } ],\n",
      "    \"listSize\" : 1,\n",
      "    \"queryString\" : \"orderId=Demo1001&amp;noConditionFind=N\",\n",
      "    \"queryStringMap\" : {\n",
      "      \"orderId\" : \"Demo1001\",\n",
      "      \"noConditionFind\" : \"N\"\n",
      "    }\n",
      "  }\n",
      "}\n"
     ]
    }
   ],
   "source": [
    "import json\n",
    "\n",
    "request_json='''\n",
    "{\n",
    "\t\"entityName\":\"OrderHeader\",\n",
    "\t\"viewIndex\": 0,\n",
    "\t\"viewSize\": 10,\n",
    "\t\"inputFields\":{\n",
    "\t\t\"orderId\":\"Demo1001\"\n",
    "\t}\n",
    "}\n",
    "'''\n",
    "\n",
    "resp = backend.invoke_srv(\"performFindList\", json.loads(request_json))\n",
    "print(resp.status_code, resp.text)"
   ]
  },
  {
   "cell_type": "code",
   "execution_count": 6,
   "metadata": {
    "ExecuteTime": {
     "end_time": "2021-04-17T05:29:46.589451Z",
     "start_time": "2021-04-17T05:29:46.503759Z"
    }
   },
   "outputs": [
    {
     "data": {
      "text/plain": [
       "(401, 'ascii')"
      ]
     },
     "execution_count": 6,
     "metadata": {},
     "output_type": "execute_result"
    }
   ],
   "source": [
    "resp = backend.invoke_srv(\"createOrderHeader\", {\n",
    "\t\"productStoreId\": \"9000\",\n",
    "\t\"grandTotal\": 50.85,\n",
    "\t\"orderId\": \"cc_DEMO10090\",\n",
    "\t\"entryDate\": \"2008-04-23 16:49:27.392\",\n",
    "\t\"createdBy\": \"admin\",\n",
    "\t\"remainingSubTotal\": 38.4,\n",
    "\t\"visitId\": \"10002\",\n",
    "\t\"invoicePerShipment\": \"Y\",\n",
    "\t\"orderDate\": \"2008-04-23 16:49:27.392\",\n",
    "\t\"currencyUom\": \"USD\",\n",
    "\t\"webSiteId\": \"WebStore\",\n",
    "\t\"priority\": \"2\",\n",
    "\t\"orderTypeId\": \"SALES_ORDER\",\n",
    "\t\"statusId\": \"ORDER_APPROVED\",\n",
    "\t\"salesChannelEnumId\": \"WEB_SALES_CHANNEL\"\n",
    "})\n",
    "resp.status_code, resp.apparent_encoding"
   ]
  },
  {
   "cell_type": "code",
   "execution_count": 9,
   "metadata": {
    "ExecuteTime": {
     "end_time": "2021-04-17T05:30:07.770638Z",
     "start_time": "2021-04-17T05:30:07.762904Z"
    }
   },
   "outputs": [
    {
     "name": "stdout",
     "output_type": "stream",
     "text": [
      "{\n",
      "  \"statusCode\" : 401,\n",
      "  \"statusDescription\" : \"Unauthorized\",\n",
      "  \"errorMessage\" : \"Unauthorized: Access is denied due to invalid or absent Authorization header.\"\n",
      "}\n"
     ]
    }
   ],
   "source": [
    "print(resp.text)"
   ]
  }
 ],
 "metadata": {
  "kernelspec": {
   "display_name": "Python 3",
   "language": "python",
   "name": "python3"
  },
  "language_info": {
   "codemirror_mode": {
    "name": "ipython",
    "version": 3
   },
   "file_extension": ".py",
   "mimetype": "text/x-python",
   "name": "python",
   "nbconvert_exporter": "python",
   "pygments_lexer": "ipython3",
   "version": "3.7.7"
  },
  "varInspector": {
   "cols": {
    "lenName": 16,
    "lenType": 16,
    "lenVar": 40
   },
   "kernels_config": {
    "python": {
     "delete_cmd_postfix": "",
     "delete_cmd_prefix": "del ",
     "library": "var_list.py",
     "varRefreshCmd": "print(var_dic_list())"
    },
    "r": {
     "delete_cmd_postfix": ") ",
     "delete_cmd_prefix": "rm(",
     "library": "var_list.r",
     "varRefreshCmd": "cat(var_dic_list()) "
    }
   },
   "types_to_exclude": [
    "module",
    "function",
    "builtin_function_or_method",
    "instance",
    "_Feature"
   ],
   "window_display": false
  }
 },
 "nbformat": 4,
 "nbformat_minor": 4
}
