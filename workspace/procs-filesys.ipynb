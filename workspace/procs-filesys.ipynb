{
 "cells": [
  {
   "cell_type": "code",
   "execution_count": 2,
   "metadata": {
    "ExecuteTime": {
     "end_time": "2021-02-28T13:22:06.917498Z",
     "start_time": "2021-02-28T13:21:47.070Z"
    }
   },
   "outputs": [],
   "source": [
    ":dep tempfile=\"*\""
   ]
  },
  {
   "cell_type": "code",
   "execution_count": 3,
   "metadata": {
    "ExecuteTime": {
     "end_time": "2021-02-28T13:22:25.342995Z",
     "start_time": "2021-02-28T13:22:19.751Z"
    }
   },
   "outputs": [
    {
     "data": {
      "text/plain": [
       "TempDir { path: \"/var/folders/fv/7k1qk5v11dn33sdcngv2wbnm0000gn/T/bluecc.test.IlCUVT\" }"
      ]
     },
     "execution_count": 3,
     "metadata": {},
     "output_type": "execute_result"
    }
   ],
   "source": [
    "let tmp_dir = tempfile::Builder::new()\n",
    "        .prefix(\"bluecc.test.\")\n",
    "        .tempdir()\n",
    "        .expect(\"temporary directory creation failed\");\n",
    "tmp_dir"
   ]
  },
  {
   "cell_type": "code",
   "execution_count": 5,
   "metadata": {
    "ExecuteTime": {
     "end_time": "2021-02-28T13:23:12.776955Z",
     "start_time": "2021-02-28T13:23:09.817Z"
    }
   },
   "outputs": [
    {
     "data": {
      "text/plain": [
       "\"/var/folders/fv/7k1qk5v11dn33sdcngv2wbnm0000gn/T/bluecc.test.IlCUVT\""
      ]
     },
     "execution_count": 5,
     "metadata": {},
     "output_type": "execute_result"
    }
   ],
   "source": [
    "tmp_dir.path()"
   ]
  },
  {
   "cell_type": "code",
   "execution_count": 6,
   "metadata": {
    "ExecuteTime": {
     "end_time": "2021-02-28T13:24:19.048270Z",
     "start_time": "2021-02-28T13:24:11.208Z"
    }
   },
   "outputs": [],
   "source": [
    ":dep itertools = \"0.10\""
   ]
  },
  {
   "cell_type": "code",
   "execution_count": 8,
   "metadata": {
    "ExecuteTime": {
     "end_time": "2021-02-28T13:25:36.744559Z",
     "start_time": "2021-02-28T13:25:34.024Z"
    }
   },
   "outputs": [
    {
     "data": {
      "text/plain": [
       "()"
      ]
     },
     "execution_count": 8,
     "metadata": {},
     "output_type": "execute_result"
    }
   ],
   "source": [
    "use itertools::Itertools;\n",
    "{\n",
    "let data = [1.1, 2.71828, -3.];\n",
    "let data_formatter = data.iter().format_with(\", \", |elt, f| f(&format_args!(\"{:.2}\", elt)));\n",
    "assert_eq!(format!(\"{}\", data_formatter),\n",
    "           \"1.10, 2.72, -3.00\");\n",
    "}"
   ]
  }
 ],
 "metadata": {
  "kernelspec": {
   "display_name": "Rust",
   "language": "rust",
   "name": "rust"
  },
  "language_info": {
   "codemirror_mode": "rust",
   "file_extension": ".rs",
   "mimetype": "text/rust",
   "name": "Rust",
   "pygment_lexer": "rust",
   "version": ""
  },
  "varInspector": {
   "cols": {
    "lenName": 16,
    "lenType": 16,
    "lenVar": 40
   },
   "kernels_config": {
    "python": {
     "delete_cmd_postfix": "",
     "delete_cmd_prefix": "del ",
     "library": "var_list.py",
     "varRefreshCmd": "print(var_dic_list())"
    },
    "r": {
     "delete_cmd_postfix": ") ",
     "delete_cmd_prefix": "rm(",
     "library": "var_list.r",
     "varRefreshCmd": "cat(var_dic_list()) "
    }
   },
   "types_to_exclude": [
    "module",
    "function",
    "builtin_function_or_method",
    "instance",
    "_Feature"
   ],
   "window_display": false
  }
 },
 "nbformat": 4,
 "nbformat_minor": 2
}
